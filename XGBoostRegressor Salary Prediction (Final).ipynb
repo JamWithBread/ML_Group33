{
 "cells": [
  {
   "cell_type": "code",
   "execution_count": 1,
   "metadata": {},
   "outputs": [],
   "source": [
    "import pandas as pd\n",
    "import numpy as np\n",
    "import matplotlib.pyplot as plt\n",
    "import csv\n",
    "import seaborn as sns\n",
    "%matplotlib inline\n",
    "\n",
    "import math\n",
    "\n",
    "from sklearn.preprocessing import LabelEncoder, MinMaxScaler\n",
    "import xgboost as xgb\n",
    "from math import sqrt\n",
    "from sklearn.metrics import mean_squared_error\n",
    "from scipy.stats import uniform, randint\n",
    "from sklearn.model_selection import cross_val_score, GridSearchCV, RandomizedSearchCV\n",
    "from sklearn.preprocessing import StandardScaler\n",
    "from sklearn.metrics import confusion_matrix\n",
    "from sklearn.metrics import r2_score, mean_absolute_error\n",
    "from sklearn.model_selection import train_test_split"
   ]
  },
  {
   "cell_type": "code",
   "execution_count": 2,
   "metadata": {},
   "outputs": [
    {
     "data": {
      "text/html": [
       "<div>\n",
       "<style scoped>\n",
       "    .dataframe tbody tr th:only-of-type {\n",
       "        vertical-align: middle;\n",
       "    }\n",
       "\n",
       "    .dataframe tbody tr th {\n",
       "        vertical-align: top;\n",
       "    }\n",
       "\n",
       "    .dataframe thead th {\n",
       "        text-align: right;\n",
       "    }\n",
       "</style>\n",
       "<table border=\"1\" class=\"dataframe\">\n",
       "  <thead>\n",
       "    <tr style=\"text-align: right;\">\n",
       "      <th></th>\n",
       "      <th>Id</th>\n",
       "      <th>Title</th>\n",
       "      <th>FullDescription</th>\n",
       "      <th>LocationRaw</th>\n",
       "      <th>LocationNormalized</th>\n",
       "      <th>ContractType</th>\n",
       "      <th>ContractTime</th>\n",
       "      <th>Company</th>\n",
       "      <th>Category</th>\n",
       "      <th>SalaryRaw</th>\n",
       "      <th>SalaryNormalized</th>\n",
       "      <th>SourceName</th>\n",
       "    </tr>\n",
       "  </thead>\n",
       "  <tbody>\n",
       "    <tr>\n",
       "      <th>0</th>\n",
       "      <td>12612628</td>\n",
       "      <td>Engineering Systems Analyst</td>\n",
       "      <td>Engineering Systems Analyst Dorking Surrey Sal...</td>\n",
       "      <td>Dorking, Surrey, Surrey</td>\n",
       "      <td>Dorking</td>\n",
       "      <td>NaN</td>\n",
       "      <td>permanent</td>\n",
       "      <td>Gregory Martin International</td>\n",
       "      <td>Engineering Jobs</td>\n",
       "      <td>20000 - 30000/annum 20-30K</td>\n",
       "      <td>25000</td>\n",
       "      <td>cv-library.co.uk</td>\n",
       "    </tr>\n",
       "    <tr>\n",
       "      <th>1</th>\n",
       "      <td>12612830</td>\n",
       "      <td>Stress Engineer Glasgow</td>\n",
       "      <td>Stress Engineer Glasgow Salary **** to **** We...</td>\n",
       "      <td>Glasgow, Scotland, Scotland</td>\n",
       "      <td>Glasgow</td>\n",
       "      <td>NaN</td>\n",
       "      <td>permanent</td>\n",
       "      <td>Gregory Martin International</td>\n",
       "      <td>Engineering Jobs</td>\n",
       "      <td>25000 - 35000/annum 25-35K</td>\n",
       "      <td>30000</td>\n",
       "      <td>cv-library.co.uk</td>\n",
       "    </tr>\n",
       "    <tr>\n",
       "      <th>2</th>\n",
       "      <td>12612844</td>\n",
       "      <td>Modelling and simulation analyst</td>\n",
       "      <td>Mathematical Modeller / Simulation Analyst / O...</td>\n",
       "      <td>Hampshire, South East, South East</td>\n",
       "      <td>Hampshire</td>\n",
       "      <td>NaN</td>\n",
       "      <td>permanent</td>\n",
       "      <td>Gregory Martin International</td>\n",
       "      <td>Engineering Jobs</td>\n",
       "      <td>20000 - 40000/annum 20-40K</td>\n",
       "      <td>30000</td>\n",
       "      <td>cv-library.co.uk</td>\n",
       "    </tr>\n",
       "    <tr>\n",
       "      <th>3</th>\n",
       "      <td>12613049</td>\n",
       "      <td>Engineering Systems Analyst / Mathematical Mod...</td>\n",
       "      <td>Engineering Systems Analyst / Mathematical Mod...</td>\n",
       "      <td>Surrey, South East, South East</td>\n",
       "      <td>Surrey</td>\n",
       "      <td>NaN</td>\n",
       "      <td>permanent</td>\n",
       "      <td>Gregory Martin International</td>\n",
       "      <td>Engineering Jobs</td>\n",
       "      <td>25000 - 30000/annum 25K-30K negotiable</td>\n",
       "      <td>27500</td>\n",
       "      <td>cv-library.co.uk</td>\n",
       "    </tr>\n",
       "    <tr>\n",
       "      <th>4</th>\n",
       "      <td>12613647</td>\n",
       "      <td>Pioneer, Miser Engineering Systems Analyst</td>\n",
       "      <td>Pioneer, Miser  Engineering Systems Analyst Do...</td>\n",
       "      <td>Surrey, South East, South East</td>\n",
       "      <td>Surrey</td>\n",
       "      <td>NaN</td>\n",
       "      <td>permanent</td>\n",
       "      <td>Gregory Martin International</td>\n",
       "      <td>Engineering Jobs</td>\n",
       "      <td>20000 - 30000/annum 20-30K</td>\n",
       "      <td>25000</td>\n",
       "      <td>cv-library.co.uk</td>\n",
       "    </tr>\n",
       "  </tbody>\n",
       "</table>\n",
       "</div>"
      ],
      "text/plain": [
       "         Id                                              Title  \\\n",
       "0  12612628                        Engineering Systems Analyst   \n",
       "1  12612830                            Stress Engineer Glasgow   \n",
       "2  12612844                   Modelling and simulation analyst   \n",
       "3  12613049  Engineering Systems Analyst / Mathematical Mod...   \n",
       "4  12613647         Pioneer, Miser Engineering Systems Analyst   \n",
       "\n",
       "                                     FullDescription  \\\n",
       "0  Engineering Systems Analyst Dorking Surrey Sal...   \n",
       "1  Stress Engineer Glasgow Salary **** to **** We...   \n",
       "2  Mathematical Modeller / Simulation Analyst / O...   \n",
       "3  Engineering Systems Analyst / Mathematical Mod...   \n",
       "4  Pioneer, Miser  Engineering Systems Analyst Do...   \n",
       "\n",
       "                         LocationRaw LocationNormalized ContractType  \\\n",
       "0            Dorking, Surrey, Surrey            Dorking          NaN   \n",
       "1        Glasgow, Scotland, Scotland            Glasgow          NaN   \n",
       "2  Hampshire, South East, South East          Hampshire          NaN   \n",
       "3     Surrey, South East, South East             Surrey          NaN   \n",
       "4     Surrey, South East, South East             Surrey          NaN   \n",
       "\n",
       "  ContractTime                       Company          Category  \\\n",
       "0    permanent  Gregory Martin International  Engineering Jobs   \n",
       "1    permanent  Gregory Martin International  Engineering Jobs   \n",
       "2    permanent  Gregory Martin International  Engineering Jobs   \n",
       "3    permanent  Gregory Martin International  Engineering Jobs   \n",
       "4    permanent  Gregory Martin International  Engineering Jobs   \n",
       "\n",
       "                                SalaryRaw  SalaryNormalized        SourceName  \n",
       "0              20000 - 30000/annum 20-30K             25000  cv-library.co.uk  \n",
       "1              25000 - 35000/annum 25-35K             30000  cv-library.co.uk  \n",
       "2              20000 - 40000/annum 20-40K             30000  cv-library.co.uk  \n",
       "3  25000 - 30000/annum 25K-30K negotiable             27500  cv-library.co.uk  \n",
       "4              20000 - 30000/annum 20-30K             25000  cv-library.co.uk  "
      ]
     },
     "execution_count": 2,
     "metadata": {},
     "output_type": "execute_result"
    }
   ],
   "source": [
    "df = pd.read_csv(\"Train_rev1_2.csv\") \n",
    "df.head()\n"
   ]
  },
  {
   "cell_type": "code",
   "execution_count": 3,
   "metadata": {},
   "outputs": [
    {
     "data": {
      "text/html": [
       "<div>\n",
       "<style scoped>\n",
       "    .dataframe tbody tr th:only-of-type {\n",
       "        vertical-align: middle;\n",
       "    }\n",
       "\n",
       "    .dataframe tbody tr th {\n",
       "        vertical-align: top;\n",
       "    }\n",
       "\n",
       "    .dataframe thead th {\n",
       "        text-align: right;\n",
       "    }\n",
       "</style>\n",
       "<table border=\"1\" class=\"dataframe\">\n",
       "  <thead>\n",
       "    <tr style=\"text-align: right;\">\n",
       "      <th></th>\n",
       "      <th>Id</th>\n",
       "      <th>SalaryNormalized</th>\n",
       "    </tr>\n",
       "  </thead>\n",
       "  <tbody>\n",
       "    <tr>\n",
       "      <th>count</th>\n",
       "      <td>2.447680e+05</td>\n",
       "      <td>244768.000000</td>\n",
       "    </tr>\n",
       "    <tr>\n",
       "      <th>mean</th>\n",
       "      <td>6.970142e+07</td>\n",
       "      <td>34122.577576</td>\n",
       "    </tr>\n",
       "    <tr>\n",
       "      <th>std</th>\n",
       "      <td>3.129813e+06</td>\n",
       "      <td>17640.543124</td>\n",
       "    </tr>\n",
       "    <tr>\n",
       "      <th>min</th>\n",
       "      <td>1.261263e+07</td>\n",
       "      <td>5000.000000</td>\n",
       "    </tr>\n",
       "    <tr>\n",
       "      <th>25%</th>\n",
       "      <td>6.869550e+07</td>\n",
       "      <td>21500.000000</td>\n",
       "    </tr>\n",
       "    <tr>\n",
       "      <th>50%</th>\n",
       "      <td>6.993700e+07</td>\n",
       "      <td>30000.000000</td>\n",
       "    </tr>\n",
       "    <tr>\n",
       "      <th>75%</th>\n",
       "      <td>7.162606e+07</td>\n",
       "      <td>42500.000000</td>\n",
       "    </tr>\n",
       "    <tr>\n",
       "      <th>max</th>\n",
       "      <td>7.270524e+07</td>\n",
       "      <td>200000.000000</td>\n",
       "    </tr>\n",
       "  </tbody>\n",
       "</table>\n",
       "</div>"
      ],
      "text/plain": [
       "                 Id  SalaryNormalized\n",
       "count  2.447680e+05     244768.000000\n",
       "mean   6.970142e+07      34122.577576\n",
       "std    3.129813e+06      17640.543124\n",
       "min    1.261263e+07       5000.000000\n",
       "25%    6.869550e+07      21500.000000\n",
       "50%    6.993700e+07      30000.000000\n",
       "75%    7.162606e+07      42500.000000\n",
       "max    7.270524e+07     200000.000000"
      ]
     },
     "execution_count": 3,
     "metadata": {},
     "output_type": "execute_result"
    }
   ],
   "source": [
    "df.describe()"
   ]
  },
  {
   "cell_type": "code",
   "execution_count": 4,
   "metadata": {},
   "outputs": [
    {
     "data": {
      "text/plain": [
       "Id                         0\n",
       "Title                      1\n",
       "FullDescription            0\n",
       "LocationRaw                0\n",
       "LocationNormalized         0\n",
       "ContractType          179326\n",
       "ContractTime           63905\n",
       "Company                32430\n",
       "Category                   0\n",
       "SalaryRaw                  0\n",
       "SalaryNormalized           0\n",
       "SourceName                 1\n",
       "dtype: int64"
      ]
     },
     "execution_count": 4,
     "metadata": {},
     "output_type": "execute_result"
    }
   ],
   "source": [
    "#check missing values\n",
    "df.isna().sum()"
   ]
  },
  {
   "cell_type": "code",
   "execution_count": 5,
   "metadata": {},
   "outputs": [
    {
     "data": {
      "text/plain": [
       "Text(0.5, 1.0, 'Distribution of Salaries')"
      ]
     },
     "execution_count": 5,
     "metadata": {},
     "output_type": "execute_result"
    },
    {
     "data": {
      "image/png": "[encoded data removed]",
      "text/plain": [
       "<Figure size 360x288 with 1 Axes>"
      ]
     },
     "metadata": {
      "needs_background": "light"
     },
     "output_type": "display_data"
    }
   ],
   "source": [
    "sal_dist = df[\"SalaryNormalized\"]\n",
    "\n",
    "sal_dist.hist(bins=40, figsize=(5,4))\n",
    "plt.xlabel('Salary')\n",
    "plt.xticks(rotation = 90)\n",
    "plt.ylabel('Counts')\n",
    "plt.title('Distribution of Salaries')"
   ]
  },
  {
   "cell_type": "code",
   "execution_count": 6,
   "metadata": {},
   "outputs": [
    {
     "name": "stdout",
     "output_type": "stream",
     "text": [
      "<class 'pandas.core.frame.DataFrame'>\n",
      "RangeIndex: 244768 entries, 0 to 244767\n",
      "Data columns (total 12 columns):\n",
      " #   Column              Non-Null Count   Dtype \n",
      "---  ------              --------------   ----- \n",
      " 0   Id                  244768 non-null  int64 \n",
      " 1   Title               244767 non-null  object\n",
      " 2   FullDescription     244768 non-null  object\n",
      " 3   LocationRaw         244768 non-null  object\n",
      " 4   LocationNormalized  244768 non-null  object\n",
      " 5   ContractType        65442 non-null   object\n",
      " 6   ContractTime        180863 non-null  object\n",
      " 7   Company             212338 non-null  object\n",
      " 8   Category            244768 non-null  object\n",
      " 9   SalaryRaw           244768 non-null  object\n",
      " 10  SalaryNormalized    244768 non-null  int64 \n",
      " 11  SourceName          244767 non-null  object\n",
      "dtypes: int64(2), object(10)\n",
      "memory usage: 22.4+ MB\n"
     ]
    }
   ],
   "source": [
    "df.info()"
   ]
  },
  {
   "cell_type": "code",
   "execution_count": 7,
   "metadata": {},
   "outputs": [],
   "source": [
    "#Turn all string values into category values\n",
    "for label, content in df.items():\n",
    "    if pd.api.types.is_string_dtype(content):\n",
    "        df[label] = content.astype(\"category\").cat.as_ordered()"
   ]
  },
  {
   "cell_type": "code",
   "execution_count": 8,
   "metadata": {},
   "outputs": [
    {
     "data": {
      "text/html": [
       "<div>\n",
       "<style scoped>\n",
       "    .dataframe tbody tr th:only-of-type {\n",
       "        vertical-align: middle;\n",
       "    }\n",
       "\n",
       "    .dataframe tbody tr th {\n",
       "        vertical-align: top;\n",
       "    }\n",
       "\n",
       "    .dataframe thead th {\n",
       "        text-align: right;\n",
       "    }\n",
       "</style>\n",
       "<table border=\"1\" class=\"dataframe\">\n",
       "  <thead>\n",
       "    <tr style=\"text-align: right;\">\n",
       "      <th></th>\n",
       "      <th>Id</th>\n",
       "      <th>Title</th>\n",
       "      <th>FullDescription</th>\n",
       "      <th>LocationRaw</th>\n",
       "      <th>LocationNormalized</th>\n",
       "      <th>ContractType</th>\n",
       "      <th>ContractTime</th>\n",
       "      <th>Company</th>\n",
       "      <th>Category</th>\n",
       "      <th>SalaryRaw</th>\n",
       "      <th>...</th>\n",
       "      <th>Titleis_missing</th>\n",
       "      <th>FullDescriptionis_missing</th>\n",
       "      <th>LocationRawis_missing</th>\n",
       "      <th>LocationNormalizedis_missing</th>\n",
       "      <th>ContractTypeis_missing</th>\n",
       "      <th>ContractTimeis_missing</th>\n",
       "      <th>Companyis_missing</th>\n",
       "      <th>Categoryis_missing</th>\n",
       "      <th>SalaryRawis_missing</th>\n",
       "      <th>SourceNameis_missing</th>\n",
       "    </tr>\n",
       "  </thead>\n",
       "  <tbody>\n",
       "    <tr>\n",
       "      <th>0</th>\n",
       "      <td>12612628</td>\n",
       "      <td>39227</td>\n",
       "      <td>68301</td>\n",
       "      <td>5178</td>\n",
       "      <td>751</td>\n",
       "      <td>0</td>\n",
       "      <td>2</td>\n",
       "      <td>7758</td>\n",
       "      <td>9</td>\n",
       "      <td>21344</td>\n",
       "      <td>...</td>\n",
       "      <td>False</td>\n",
       "      <td>False</td>\n",
       "      <td>False</td>\n",
       "      <td>False</td>\n",
       "      <td>True</td>\n",
       "      <td>False</td>\n",
       "      <td>False</td>\n",
       "      <td>False</td>\n",
       "      <td>False</td>\n",
       "      <td>False</td>\n",
       "    </tr>\n",
       "    <tr>\n",
       "      <th>1</th>\n",
       "      <td>12612830</td>\n",
       "      <td>121388</td>\n",
       "      <td>196351</td>\n",
       "      <td>6881</td>\n",
       "      <td>987</td>\n",
       "      <td>0</td>\n",
       "      <td>2</td>\n",
       "      <td>7758</td>\n",
       "      <td>9</td>\n",
       "      <td>32427</td>\n",
       "      <td>...</td>\n",
       "      <td>False</td>\n",
       "      <td>False</td>\n",
       "      <td>False</td>\n",
       "      <td>False</td>\n",
       "      <td>True</td>\n",
       "      <td>False</td>\n",
       "      <td>False</td>\n",
       "      <td>False</td>\n",
       "      <td>False</td>\n",
       "      <td>False</td>\n",
       "    </tr>\n",
       "    <tr>\n",
       "      <th>2</th>\n",
       "      <td>12612844</td>\n",
       "      <td>73486</td>\n",
       "      <td>117824</td>\n",
       "      <td>7630</td>\n",
       "      <td>1069</td>\n",
       "      <td>0</td>\n",
       "      <td>2</td>\n",
       "      <td>7758</td>\n",
       "      <td>9</td>\n",
       "      <td>21539</td>\n",
       "      <td>...</td>\n",
       "      <td>False</td>\n",
       "      <td>False</td>\n",
       "      <td>False</td>\n",
       "      <td>False</td>\n",
       "      <td>True</td>\n",
       "      <td>False</td>\n",
       "      <td>False</td>\n",
       "      <td>False</td>\n",
       "      <td>False</td>\n",
       "      <td>False</td>\n",
       "    </tr>\n",
       "    <tr>\n",
       "      <th>3</th>\n",
       "      <td>12613049</td>\n",
       "      <td>39228</td>\n",
       "      <td>68300</td>\n",
       "      <td>17183</td>\n",
       "      <td>2310</td>\n",
       "      <td>0</td>\n",
       "      <td>2</td>\n",
       "      <td>7758</td>\n",
       "      <td>9</td>\n",
       "      <td>31840</td>\n",
       "      <td>...</td>\n",
       "      <td>False</td>\n",
       "      <td>False</td>\n",
       "      <td>False</td>\n",
       "      <td>False</td>\n",
       "      <td>True</td>\n",
       "      <td>False</td>\n",
       "      <td>False</td>\n",
       "      <td>False</td>\n",
       "      <td>False</td>\n",
       "      <td>False</td>\n",
       "    </tr>\n",
       "    <tr>\n",
       "      <th>4</th>\n",
       "      <td>12613647</td>\n",
       "      <td>85435</td>\n",
       "      <td>157839</td>\n",
       "      <td>17183</td>\n",
       "      <td>2310</td>\n",
       "      <td>0</td>\n",
       "      <td>2</td>\n",
       "      <td>7758</td>\n",
       "      <td>9</td>\n",
       "      <td>21344</td>\n",
       "      <td>...</td>\n",
       "      <td>False</td>\n",
       "      <td>False</td>\n",
       "      <td>False</td>\n",
       "      <td>False</td>\n",
       "      <td>True</td>\n",
       "      <td>False</td>\n",
       "      <td>False</td>\n",
       "      <td>False</td>\n",
       "      <td>False</td>\n",
       "      <td>False</td>\n",
       "    </tr>\n",
       "  </tbody>\n",
       "</table>\n",
       "<p>5 rows × 22 columns</p>\n",
       "</div>"
      ],
      "text/plain": [
       "         Id   Title  FullDescription  LocationRaw  LocationNormalized  \\\n",
       "0  12612628   39227            68301         5178                 751   \n",
       "1  12612830  121388           196351         6881                 987   \n",
       "2  12612844   73486           117824         7630                1069   \n",
       "3  12613049   39228            68300        17183                2310   \n",
       "4  12613647   85435           157839        17183                2310   \n",
       "\n",
       "   ContractType  ContractTime  Company  Category  SalaryRaw  ...  \\\n",
       "0             0             2     7758         9      21344  ...   \n",
       "1             0             2     7758         9      32427  ...   \n",
       "2             0             2     7758         9      21539  ...   \n",
       "3             0             2     7758         9      31840  ...   \n",
       "4             0             2     7758         9      21344  ...   \n",
       "\n",
       "   Titleis_missing  FullDescriptionis_missing  LocationRawis_missing  \\\n",
       "0            False                      False                  False   \n",
       "1            False                      False                  False   \n",
       "2            False                      False                  False   \n",
       "3            False                      False                  False   \n",
       "4            False                      False                  False   \n",
       "\n",
       "   LocationNormalizedis_missing  ContractTypeis_missing  \\\n",
       "0                         False                    True   \n",
       "1                         False                    True   \n",
       "2                         False                    True   \n",
       "3                         False                    True   \n",
       "4                         False                    True   \n",
       "\n",
       "   ContractTimeis_missing  Companyis_missing  Categoryis_missing  \\\n",
       "0                   False              False               False   \n",
       "1                   False              False               False   \n",
       "2                   False              False               False   \n",
       "3                   False              False               False   \n",
       "4                   False              False               False   \n",
       "\n",
       "   SalaryRawis_missing  SourceNameis_missing  \n",
       "0                False                 False  \n",
       "1                False                 False  \n",
       "2                False                 False  \n",
       "3                False                 False  \n",
       "4                False                 False  \n",
       "\n",
       "[5 rows x 22 columns]"
      ]
     },
     "execution_count": 8,
     "metadata": {},
     "output_type": "execute_result"
    }
   ],
   "source": [
    "#Filling in missing values and perform encoding\n",
    "for label,content in df.items():\n",
    "    if not pd.api.types.is_numeric_dtype(content):\n",
    "        # Add binary column to indicate whether sample had missing value\n",
    "        df[label+\"is_missing\"]=pd.isnull(content)\n",
    "        # Turn categories into numbers and add+1\n",
    "        df[label] = pd.Categorical(content).codes+1\n",
    "df.head()"
   ]
  },
  {
   "cell_type": "code",
   "execution_count": 9,
   "metadata": {},
   "outputs": [
    {
     "data": {
      "text/plain": [
       "Id                              0\n",
       "Title                           0\n",
       "FullDescription                 0\n",
       "LocationRaw                     0\n",
       "LocationNormalized              0\n",
       "ContractType                    0\n",
       "ContractTime                    0\n",
       "Company                         0\n",
       "Category                        0\n",
       "SalaryRaw                       0\n",
       "SalaryNormalized                0\n",
       "SourceName                      0\n",
       "Titleis_missing                 0\n",
       "FullDescriptionis_missing       0\n",
       "LocationRawis_missing           0\n",
       "LocationNormalizedis_missing    0\n",
       "ContractTypeis_missing          0\n",
       "ContractTimeis_missing          0\n",
       "Companyis_missing               0\n",
       "Categoryis_missing              0\n",
       "SalaryRawis_missing             0\n",
       "SourceNameis_missing            0\n",
       "dtype: int64"
      ]
     },
     "execution_count": 9,
     "metadata": {},
     "output_type": "execute_result"
    }
   ],
   "source": [
    "#check for missing values again\n",
    "df.isna().sum()"
   ]
  },
  {
   "cell_type": "code",
   "execution_count": 10,
   "metadata": {},
   "outputs": [
    {
     "name": "stdout",
     "output_type": "stream",
     "text": [
      "(146860, 21)\n",
      "(146860,)\n",
      "(48954, 21)\n",
      "(48954,)\n",
      "(48954, 21)\n",
      "(48954,)\n"
     ]
    },
    {
     "data": {
      "text/plain": [
       "(None, None)"
      ]
     },
     "execution_count": 10,
     "metadata": {},
     "output_type": "execute_result"
    }
   ],
   "source": [
    "#Train-validation-test split\n",
    "\n",
    "X = df.drop(columns = ['SalaryNormalized']).copy()\n",
    "y = df['SalaryNormalized']\n",
    "# Split the data in training and remaining dataset, train size = 60%\n",
    "X_train, X_rem, y_train, y_rem = train_test_split(X,y, train_size=0.6)\n",
    "# Split remaining 50/50 into validation and test sets\n",
    "X_valid, X_test, y_valid, y_test = train_test_split(X_rem,y_rem, test_size=0.5)\n",
    "print(X_train.shape), print(y_train.shape)\n",
    "print(X_valid.shape), print(y_valid.shape)\n",
    "print(X_test.shape), print(y_test.shape)"
   ]
  },
  {
   "cell_type": "code",
   "execution_count": 11,
   "metadata": {},
   "outputs": [],
   "source": [
    "#Initialize XGBoost Model\n",
    "model = xgb.XGBRegressor(objective=\"reg:squarederror\",random_state=42)"
   ]
  },
  {
   "cell_type": "code",
   "execution_count": 12,
   "metadata": {},
   "outputs": [
    {
     "data": {
      "text/plain": [
       "XGBRegressor(base_score=0.5, booster='gbtree', colsample_bylevel=1,\n",
       "             colsample_bynode=1, colsample_bytree=1, enable_categorical=False,\n",
       "             gamma=0, gpu_id=-1, importance_type=None,\n",
       "             interaction_constraints='', learning_rate=0.300000012,\n",
       "             max_delta_step=0, max_depth=6, min_child_weight=1, missing=nan,\n",
       "             monotone_constraints='()', n_estimators=100, n_jobs=4,\n",
       "             num_parallel_tree=1, predictor='auto', random_state=42,\n",
       "             reg_alpha=0, reg_lambda=1, scale_pos_weight=1, subsample=1,\n",
       "             tree_method='exact', validate_parameters=1, verbosity=None)"
      ]
     },
     "execution_count": 12,
     "metadata": {},
     "output_type": "execute_result"
    }
   ],
   "source": [
    "#Train basic model\n",
    "model.fit(X_train,y_train)"
   ]
  },
  {
   "cell_type": "code",
   "execution_count": 13,
   "metadata": {},
   "outputs": [
    {
     "name": "stdout",
     "output_type": "stream",
     "text": [
      "r2 score = 0.8477604878101295\n",
      "MAE xgboost: 3655.1781505995064\n"
     ]
    }
   ],
   "source": [
    "#Evaluate the model\n",
    "y_pred = model.predict(X_valid)\n",
    "MAE = mean_absolute_error(y_valid,y_pred)\n",
    "r2 = r2_score(y_valid,y_pred)\n",
    "print(f'r2 score = {r2}')\n",
    "print(f'MAE xgboost: {MAE}')\n"
   ]
  },
  {
   "cell_type": "code",
   "execution_count": 14,
   "metadata": {
    "scrolled": true
   },
   "outputs": [
    {
     "data": {
      "image/png": "[encoded data removed]",
      "text/plain": [
       "<Figure size 432x288 with 1 Axes>"
      ]
     },
     "metadata": {
      "needs_background": "light"
     },
     "output_type": "display_data"
    }
   ],
   "source": [
    "bins = np.linspace(0, 100000, 50)\n",
    "\n",
    "plt.hist(y_pred, bins, alpha=0.5, label='Validation Predictions')\n",
    "plt.hist(y_valid, bins, alpha=0.5, label='Validation True Labels')\n",
    "plt.legend(loc='upper right')\n",
    "plt.show()"
   ]
  },
  {
   "cell_type": "code",
   "execution_count": 15,
   "metadata": {},
   "outputs": [
    {
     "name": "stdout",
     "output_type": "stream",
     "text": [
      "Random Search CV search...\n",
      "Fitting 5 folds for each of 5 candidates, totalling 25 fits\n",
      "[CV 1/5; 1/5] START max_delta_step=36, max_depth=3, min_child_weight=48, n_estimators=10, reg_alpha=8, reg_gamma=6, reg_lambda=7\n",
      "[22:01:18] WARNING: /Users/runner/work/xgboost/xgboost/src/learner.cc:576: \n",
      "Parameters: { \"reg_gamma\" } might not be used.\n",
      "\n",
      "  This could be a false alarm, with some parameters getting used by language bindings but\n",
      "  then being mistakenly passed down to XGBoost core, or some parameter actually being used\n",
      "  but getting flagged wrongly here. Please open an issue if you find any such cases.\n",
      "\n",
      "\n",
      "[CV 1/5; 1/5] END max_delta_step=36, max_depth=3, min_child_weight=48, n_estimators=10, reg_alpha=8, reg_gamma=6, reg_lambda=7;, score=(train=-3.720, test=-3.743) total time=   1.5s\n",
      "[CV 2/5; 1/5] START max_delta_step=36, max_depth=3, min_child_weight=48, n_estimators=10, reg_alpha=8, reg_gamma=6, reg_lambda=7\n",
      "[22:01:20] WARNING: /Users/runner/work/xgboost/xgboost/src/learner.cc:576: \n",
      "Parameters: { \"reg_gamma\" } might not be used.\n",
      "\n",
      "  This could be a false alarm, with some parameters getting used by language bindings but\n",
      "  then being mistakenly passed down to XGBoost core, or some parameter actually being used\n",
      "  but getting flagged wrongly here. Please open an issue if you find any such cases.\n",
      "\n",
      "\n",
      "[CV 2/5; 1/5] END max_delta_step=36, max_depth=3, min_child_weight=48, n_estimators=10, reg_alpha=8, reg_gamma=6, reg_lambda=7;, score=(train=-3.748, test=-3.634) total time=   1.3s\n",
      "[CV 3/5; 1/5] START max_delta_step=36, max_depth=3, min_child_weight=48, n_estimators=10, reg_alpha=8, reg_gamma=6, reg_lambda=7\n",
      "[22:01:22] WARNING: /Users/runner/work/xgboost/xgboost/src/learner.cc:576: \n",
      "Parameters: { \"reg_gamma\" } might not be used.\n",
      "\n",
      "  This could be a false alarm, with some parameters getting used by language bindings but\n",
      "  then being mistakenly passed down to XGBoost core, or some parameter actually being used\n",
      "  but getting flagged wrongly here. Please open an issue if you find any such cases.\n",
      "\n",
      "\n",
      "[CV 3/5; 1/5] END max_delta_step=36, max_depth=3, min_child_weight=48, n_estimators=10, reg_alpha=8, reg_gamma=6, reg_lambda=7;, score=(train=-3.708, test=-3.794) total time=   1.3s\n",
      "[CV 4/5; 1/5] START max_delta_step=36, max_depth=3, min_child_weight=48, n_estimators=10, reg_alpha=8, reg_gamma=6, reg_lambda=7\n",
      "[22:01:23] WARNING: /Users/runner/work/xgboost/xgboost/src/learner.cc:576: \n",
      "Parameters: { \"reg_gamma\" } might not be used.\n",
      "\n",
      "  This could be a false alarm, with some parameters getting used by language bindings but\n",
      "  then being mistakenly passed down to XGBoost core, or some parameter actually being used\n",
      "  but getting flagged wrongly here. Please open an issue if you find any such cases.\n",
      "\n",
      "\n",
      "[CV 4/5; 1/5] END max_delta_step=36, max_depth=3, min_child_weight=48, n_estimators=10, reg_alpha=8, reg_gamma=6, reg_lambda=7;, score=(train=-3.722, test=-3.733) total time=   1.4s\n",
      "[CV 5/5; 1/5] START max_delta_step=36, max_depth=3, min_child_weight=48, n_estimators=10, reg_alpha=8, reg_gamma=6, reg_lambda=7\n",
      "[22:01:25] WARNING: /Users/runner/work/xgboost/xgboost/src/learner.cc:576: \n",
      "Parameters: { \"reg_gamma\" } might not be used.\n",
      "\n",
      "  This could be a false alarm, with some parameters getting used by language bindings but\n",
      "  then being mistakenly passed down to XGBoost core, or some parameter actually being used\n",
      "  but getting flagged wrongly here. Please open an issue if you find any such cases.\n",
      "\n",
      "\n",
      "[CV 5/5; 1/5] END max_delta_step=36, max_depth=3, min_child_weight=48, n_estimators=10, reg_alpha=8, reg_gamma=6, reg_lambda=7;, score=(train=-3.725, test=-3.724) total time=   1.6s\n",
      "[CV 1/5; 2/5] START max_delta_step=31, max_depth=5, min_child_weight=6, n_estimators=20, reg_alpha=0, reg_gamma=3, reg_lambda=6\n",
      "[22:01:27] WARNING: /Users/runner/work/xgboost/xgboost/src/learner.cc:576: \n",
      "Parameters: { \"reg_gamma\" } might not be used.\n",
      "\n",
      "  This could be a false alarm, with some parameters getting used by language bindings but\n",
      "  then being mistakenly passed down to XGBoost core, or some parameter actually being used\n",
      "  but getting flagged wrongly here. Please open an issue if you find any such cases.\n",
      "\n",
      "\n",
      "[CV 1/5; 2/5] END max_delta_step=31, max_depth=5, min_child_weight=6, n_estimators=20, reg_alpha=0, reg_gamma=3, reg_lambda=6;, score=(train=-3.703, test=-3.725) total time=   2.8s\n",
      "[CV 2/5; 2/5] START max_delta_step=31, max_depth=5, min_child_weight=6, n_estimators=20, reg_alpha=0, reg_gamma=3, reg_lambda=6\n",
      "[22:01:30] WARNING: /Users/runner/work/xgboost/xgboost/src/learner.cc:576: \n",
      "Parameters: { \"reg_gamma\" } might not be used.\n",
      "\n",
      "  This could be a false alarm, with some parameters getting used by language bindings but\n",
      "  then being mistakenly passed down to XGBoost core, or some parameter actually being used\n",
      "  but getting flagged wrongly here. Please open an issue if you find any such cases.\n",
      "\n",
      "\n",
      "[CV 2/5; 2/5] END max_delta_step=31, max_depth=5, min_child_weight=6, n_estimators=20, reg_alpha=0, reg_gamma=3, reg_lambda=6;, score=(train=-3.731, test=-3.617) total time=   2.1s\n",
      "[CV 3/5; 2/5] START max_delta_step=31, max_depth=5, min_child_weight=6, n_estimators=20, reg_alpha=0, reg_gamma=3, reg_lambda=6\n",
      "[22:01:32] WARNING: /Users/runner/work/xgboost/xgboost/src/learner.cc:576: \n",
      "Parameters: { \"reg_gamma\" } might not be used.\n",
      "\n",
      "  This could be a false alarm, with some parameters getting used by language bindings but\n",
      "  then being mistakenly passed down to XGBoost core, or some parameter actually being used\n",
      "  but getting flagged wrongly here. Please open an issue if you find any such cases.\n",
      "\n",
      "\n",
      "[CV 3/5; 2/5] END max_delta_step=31, max_depth=5, min_child_weight=6, n_estimators=20, reg_alpha=0, reg_gamma=3, reg_lambda=6;, score=(train=-3.691, test=-3.777) total time=   1.8s\n",
      "[CV 4/5; 2/5] START max_delta_step=31, max_depth=5, min_child_weight=6, n_estimators=20, reg_alpha=0, reg_gamma=3, reg_lambda=6\n",
      "[22:01:34] WARNING: /Users/runner/work/xgboost/xgboost/src/learner.cc:576: \n",
      "Parameters: { \"reg_gamma\" } might not be used.\n",
      "\n",
      "  This could be a false alarm, with some parameters getting used by language bindings but\n",
      "  then being mistakenly passed down to XGBoost core, or some parameter actually being used\n",
      "  but getting flagged wrongly here. Please open an issue if you find any such cases.\n",
      "\n",
      "\n",
      "[CV 4/5; 2/5] END max_delta_step=31, max_depth=5, min_child_weight=6, n_estimators=20, reg_alpha=0, reg_gamma=3, reg_lambda=6;, score=(train=-3.705, test=-3.716) total time=   2.1s\n",
      "[CV 5/5; 2/5] START max_delta_step=31, max_depth=5, min_child_weight=6, n_estimators=20, reg_alpha=0, reg_gamma=3, reg_lambda=6\n",
      "[22:01:37] WARNING: /Users/runner/work/xgboost/xgboost/src/learner.cc:576: \n",
      "Parameters: { \"reg_gamma\" } might not be used.\n",
      "\n",
      "  This could be a false alarm, with some parameters getting used by language bindings but\n",
      "  then being mistakenly passed down to XGBoost core, or some parameter actually being used\n",
      "  but getting flagged wrongly here. Please open an issue if you find any such cases.\n",
      "\n",
      "\n",
      "[CV 5/5; 2/5] END max_delta_step=31, max_depth=5, min_child_weight=6, n_estimators=20, reg_alpha=0, reg_gamma=3, reg_lambda=6;, score=(train=-3.708, test=-3.707) total time=   1.9s\n",
      "[CV 1/5; 3/5] START max_delta_step=31, max_depth=5, min_child_weight=20, n_estimators=30, reg_alpha=2, reg_gamma=8, reg_lambda=2\n",
      "[22:01:39] WARNING: /Users/runner/work/xgboost/xgboost/src/learner.cc:576: \n",
      "Parameters: { \"reg_gamma\" } might not be used.\n",
      "\n",
      "  This could be a false alarm, with some parameters getting used by language bindings but\n",
      "  then being mistakenly passed down to XGBoost core, or some parameter actually being used\n",
      "  but getting flagged wrongly here. Please open an issue if you find any such cases.\n",
      "\n",
      "\n",
      "[CV 1/5; 3/5] END max_delta_step=31, max_depth=5, min_child_weight=20, n_estimators=30, reg_alpha=2, reg_gamma=8, reg_lambda=2;, score=(train=-3.683, test=-3.705) total time=   2.4s\n",
      "[CV 2/5; 3/5] START max_delta_step=31, max_depth=5, min_child_weight=20, n_estimators=30, reg_alpha=2, reg_gamma=8, reg_lambda=2\n",
      "[22:01:42] WARNING: /Users/runner/work/xgboost/xgboost/src/learner.cc:576: \n",
      "Parameters: { \"reg_gamma\" } might not be used.\n",
      "\n",
      "  This could be a false alarm, with some parameters getting used by language bindings but\n",
      "  then being mistakenly passed down to XGBoost core, or some parameter actually being used\n",
      "  but getting flagged wrongly here. Please open an issue if you find any such cases.\n",
      "\n",
      "\n"
     ]
    },
    {
     "name": "stdout",
     "output_type": "stream",
     "text": [
      "[CV 2/5; 3/5] END max_delta_step=31, max_depth=5, min_child_weight=20, n_estimators=30, reg_alpha=2, reg_gamma=8, reg_lambda=2;, score=(train=-3.710, test=-3.597) total time=   2.8s\n",
      "[CV 3/5; 3/5] START max_delta_step=31, max_depth=5, min_child_weight=20, n_estimators=30, reg_alpha=2, reg_gamma=8, reg_lambda=2\n",
      "[22:01:45] WARNING: /Users/runner/work/xgboost/xgboost/src/learner.cc:576: \n",
      "Parameters: { \"reg_gamma\" } might not be used.\n",
      "\n",
      "  This could be a false alarm, with some parameters getting used by language bindings but\n",
      "  then being mistakenly passed down to XGBoost core, or some parameter actually being used\n",
      "  but getting flagged wrongly here. Please open an issue if you find any such cases.\n",
      "\n",
      "\n",
      "[CV 3/5; 3/5] END max_delta_step=31, max_depth=5, min_child_weight=20, n_estimators=30, reg_alpha=2, reg_gamma=8, reg_lambda=2;, score=(train=-3.671, test=-3.756) total time=   3.3s\n",
      "[CV 4/5; 3/5] START max_delta_step=31, max_depth=5, min_child_weight=20, n_estimators=30, reg_alpha=2, reg_gamma=8, reg_lambda=2\n",
      "[22:01:49] WARNING: /Users/runner/work/xgboost/xgboost/src/learner.cc:576: \n",
      "Parameters: { \"reg_gamma\" } might not be used.\n",
      "\n",
      "  This could be a false alarm, with some parameters getting used by language bindings but\n",
      "  then being mistakenly passed down to XGBoost core, or some parameter actually being used\n",
      "  but getting flagged wrongly here. Please open an issue if you find any such cases.\n",
      "\n",
      "\n",
      "[CV 4/5; 3/5] END max_delta_step=31, max_depth=5, min_child_weight=20, n_estimators=30, reg_alpha=2, reg_gamma=8, reg_lambda=2;, score=(train=-3.685, test=-3.696) total time=   4.0s\n",
      "[CV 5/5; 3/5] START max_delta_step=31, max_depth=5, min_child_weight=20, n_estimators=30, reg_alpha=2, reg_gamma=8, reg_lambda=2\n",
      "[22:01:53] WARNING: /Users/runner/work/xgboost/xgboost/src/learner.cc:576: \n",
      "Parameters: { \"reg_gamma\" } might not be used.\n",
      "\n",
      "  This could be a false alarm, with some parameters getting used by language bindings but\n",
      "  then being mistakenly passed down to XGBoost core, or some parameter actually being used\n",
      "  but getting flagged wrongly here. Please open an issue if you find any such cases.\n",
      "\n",
      "\n",
      "[CV 5/5; 3/5] END max_delta_step=31, max_depth=5, min_child_weight=20, n_estimators=30, reg_alpha=2, reg_gamma=8, reg_lambda=2;, score=(train=-3.687, test=-3.686) total time=   3.0s\n",
      "[CV 1/5; 4/5] START max_delta_step=11, max_depth=5, min_child_weight=42, n_estimators=40, reg_alpha=7, reg_gamma=8, reg_lambda=8\n",
      "[22:01:57] WARNING: /Users/runner/work/xgboost/xgboost/src/learner.cc:576: \n",
      "Parameters: { \"reg_gamma\" } might not be used.\n",
      "\n",
      "  This could be a false alarm, with some parameters getting used by language bindings but\n",
      "  then being mistakenly passed down to XGBoost core, or some parameter actually being used\n",
      "  but getting flagged wrongly here. Please open an issue if you find any such cases.\n",
      "\n",
      "\n",
      "[CV 1/5; 4/5] END max_delta_step=11, max_depth=5, min_child_weight=42, n_estimators=40, reg_alpha=7, reg_gamma=8, reg_lambda=8;, score=(train=-3.715, test=-3.737) total time=   3.0s\n",
      "[CV 2/5; 4/5] START max_delta_step=11, max_depth=5, min_child_weight=42, n_estimators=40, reg_alpha=7, reg_gamma=8, reg_lambda=8\n",
      "[22:02:00] WARNING: /Users/runner/work/xgboost/xgboost/src/learner.cc:576: \n",
      "Parameters: { \"reg_gamma\" } might not be used.\n",
      "\n",
      "  This could be a false alarm, with some parameters getting used by language bindings but\n",
      "  then being mistakenly passed down to XGBoost core, or some parameter actually being used\n",
      "  but getting flagged wrongly here. Please open an issue if you find any such cases.\n",
      "\n",
      "\n",
      "[CV 2/5; 4/5] END max_delta_step=11, max_depth=5, min_child_weight=42, n_estimators=40, reg_alpha=7, reg_gamma=8, reg_lambda=8;, score=(train=-3.743, test=-3.629) total time=   3.6s\n",
      "[CV 3/5; 4/5] START max_delta_step=11, max_depth=5, min_child_weight=42, n_estimators=40, reg_alpha=7, reg_gamma=8, reg_lambda=8\n",
      "[22:02:04] WARNING: /Users/runner/work/xgboost/xgboost/src/learner.cc:576: \n",
      "Parameters: { \"reg_gamma\" } might not be used.\n",
      "\n",
      "  This could be a false alarm, with some parameters getting used by language bindings but\n",
      "  then being mistakenly passed down to XGBoost core, or some parameter actually being used\n",
      "  but getting flagged wrongly here. Please open an issue if you find any such cases.\n",
      "\n",
      "\n",
      "[CV 3/5; 4/5] END max_delta_step=11, max_depth=5, min_child_weight=42, n_estimators=40, reg_alpha=7, reg_gamma=8, reg_lambda=8;, score=(train=-3.703, test=-3.789) total time=   3.9s\n",
      "[CV 4/5; 4/5] START max_delta_step=11, max_depth=5, min_child_weight=42, n_estimators=40, reg_alpha=7, reg_gamma=8, reg_lambda=8\n",
      "[22:02:08] WARNING: /Users/runner/work/xgboost/xgboost/src/learner.cc:576: \n",
      "Parameters: { \"reg_gamma\" } might not be used.\n",
      "\n",
      "  This could be a false alarm, with some parameters getting used by language bindings but\n",
      "  then being mistakenly passed down to XGBoost core, or some parameter actually being used\n",
      "  but getting flagged wrongly here. Please open an issue if you find any such cases.\n",
      "\n",
      "\n",
      "[CV 4/5; 4/5] END max_delta_step=11, max_depth=5, min_child_weight=42, n_estimators=40, reg_alpha=7, reg_gamma=8, reg_lambda=8;, score=(train=-3.717, test=-3.728) total time=   3.4s\n",
      "[CV 5/5; 4/5] START max_delta_step=11, max_depth=5, min_child_weight=42, n_estimators=40, reg_alpha=7, reg_gamma=8, reg_lambda=8\n",
      "[22:02:12] WARNING: /Users/runner/work/xgboost/xgboost/src/learner.cc:576: \n",
      "Parameters: { \"reg_gamma\" } might not be used.\n",
      "\n",
      "  This could be a false alarm, with some parameters getting used by language bindings but\n",
      "  then being mistakenly passed down to XGBoost core, or some parameter actually being used\n",
      "  but getting flagged wrongly here. Please open an issue if you find any such cases.\n",
      "\n",
      "\n",
      "[CV 5/5; 4/5] END max_delta_step=11, max_depth=5, min_child_weight=42, n_estimators=40, reg_alpha=7, reg_gamma=8, reg_lambda=8;, score=(train=-3.720, test=-3.719) total time=   2.9s\n",
      "[CV 1/5; 5/5] START max_delta_step=7, max_depth=3, min_child_weight=29, n_estimators=50, reg_alpha=0, reg_gamma=9, reg_lambda=2\n",
      "[22:02:15] WARNING: /Users/runner/work/xgboost/xgboost/src/learner.cc:576: \n",
      "Parameters: { \"reg_gamma\" } might not be used.\n",
      "\n",
      "  This could be a false alarm, with some parameters getting used by language bindings but\n",
      "  then being mistakenly passed down to XGBoost core, or some parameter actually being used\n",
      "  but getting flagged wrongly here. Please open an issue if you find any such cases.\n",
      "\n",
      "\n",
      "[CV 1/5; 5/5] END max_delta_step=7, max_depth=3, min_child_weight=29, n_estimators=50, reg_alpha=0, reg_gamma=9, reg_lambda=2;, score=(train=-3.721, test=-3.743) total time=   4.8s\n",
      "[CV 2/5; 5/5] START max_delta_step=7, max_depth=3, min_child_weight=29, n_estimators=50, reg_alpha=0, reg_gamma=9, reg_lambda=2\n",
      "[22:02:20] WARNING: /Users/runner/work/xgboost/xgboost/src/learner.cc:576: \n",
      "Parameters: { \"reg_gamma\" } might not be used.\n",
      "\n",
      "  This could be a false alarm, with some parameters getting used by language bindings but\n",
      "  then being mistakenly passed down to XGBoost core, or some parameter actually being used\n",
      "  but getting flagged wrongly here. Please open an issue if you find any such cases.\n",
      "\n",
      "\n",
      "[CV 2/5; 5/5] END max_delta_step=7, max_depth=3, min_child_weight=29, n_estimators=50, reg_alpha=0, reg_gamma=9, reg_lambda=2;, score=(train=-3.749, test=-3.634) total time=   4.7s\n",
      "[CV 3/5; 5/5] START max_delta_step=7, max_depth=3, min_child_weight=29, n_estimators=50, reg_alpha=0, reg_gamma=9, reg_lambda=2\n",
      "[22:02:25] WARNING: /Users/runner/work/xgboost/xgboost/src/learner.cc:576: \n",
      "Parameters: { \"reg_gamma\" } might not be used.\n",
      "\n",
      "  This could be a false alarm, with some parameters getting used by language bindings but\n",
      "  then being mistakenly passed down to XGBoost core, or some parameter actually being used\n",
      "  but getting flagged wrongly here. Please open an issue if you find any such cases.\n",
      "\n",
      "\n",
      "[CV 3/5; 5/5] END max_delta_step=7, max_depth=3, min_child_weight=29, n_estimators=50, reg_alpha=0, reg_gamma=9, reg_lambda=2;, score=(train=-3.709, test=-3.795) total time=   4.9s\n",
      "[CV 4/5; 5/5] START max_delta_step=7, max_depth=3, min_child_weight=29, n_estimators=50, reg_alpha=0, reg_gamma=9, reg_lambda=2\n",
      "[22:02:30] WARNING: /Users/runner/work/xgboost/xgboost/src/learner.cc:576: \n",
      "Parameters: { \"reg_gamma\" } might not be used.\n",
      "\n",
      "  This could be a false alarm, with some parameters getting used by language bindings but\n",
      "  then being mistakenly passed down to XGBoost core, or some parameter actually being used\n",
      "  but getting flagged wrongly here. Please open an issue if you find any such cases.\n",
      "\n",
      "\n"
     ]
    },
    {
     "name": "stdout",
     "output_type": "stream",
     "text": [
      "[CV 4/5; 5/5] END max_delta_step=7, max_depth=3, min_child_weight=29, n_estimators=50, reg_alpha=0, reg_gamma=9, reg_lambda=2;, score=(train=-3.723, test=-3.734) total time=   4.7s\n",
      "[CV 5/5; 5/5] START max_delta_step=7, max_depth=3, min_child_weight=29, n_estimators=50, reg_alpha=0, reg_gamma=9, reg_lambda=2\n",
      "[22:02:35] WARNING: /Users/runner/work/xgboost/xgboost/src/learner.cc:576: \n",
      "Parameters: { \"reg_gamma\" } might not be used.\n",
      "\n",
      "  This could be a false alarm, with some parameters getting used by language bindings but\n",
      "  then being mistakenly passed down to XGBoost core, or some parameter actually being used\n",
      "  but getting flagged wrongly here. Please open an issue if you find any such cases.\n",
      "\n",
      "\n",
      "[CV 5/5; 5/5] END max_delta_step=7, max_depth=3, min_child_weight=29, n_estimators=50, reg_alpha=0, reg_gamma=9, reg_lambda=2;, score=(train=-3.725, test=-3.724) total time=   5.4s\n",
      "[22:02:41] WARNING: /Users/runner/work/xgboost/xgboost/src/learner.cc:576: \n",
      "Parameters: { \"reg_gamma\" } might not be used.\n",
      "\n",
      "  This could be a false alarm, with some parameters getting used by language bindings but\n",
      "  then being mistakenly passed down to XGBoost core, or some parameter actually being used\n",
      "  but getting flagged wrongly here. Please open an issue if you find any such cases.\n",
      "\n",
      "\n",
      "Random Search CV search time: 86.07234382629395\n",
      "\n",
      "\n"
     ]
    },
    {
     "data": {
      "text/plain": [
       "{'reg_lambda': 2,\n",
       " 'reg_gamma': 8,\n",
       " 'reg_alpha': 2,\n",
       " 'n_estimators': 30,\n",
       " 'min_child_weight': 20,\n",
       " 'max_depth': 5,\n",
       " 'max_delta_step': 31}"
      ]
     },
     "execution_count": 15,
     "metadata": {},
     "output_type": "execute_result"
    }
   ],
   "source": [
    "#Tune hyper parameters using Random Search CV\n",
    "# Takes about 3 minutes\n",
    "import time\n",
    "\n",
    "np.random.seed(42)\n",
    "\n",
    "grid = {\n",
    "    \"n_estimators\":np.arange(10,100,10),\n",
    "    \"max_depth\":[None,3,5,10],\n",
    "    \"min_child_weight\": range(0,50),\n",
    "    \"max_delta_step\": range(0,50),\n",
    "    \"reg_alpha\": range(0,10),\n",
    "    \"reg_lambda\": range(0,10),\n",
    "    \"reg_gamma\": range(0,10)\n",
    "}\n",
    "\n",
    "rs_model = RandomizedSearchCV(xgb.XGBRegressor(n_jobs=-1, random_state=42),\n",
    "                              param_distributions = grid,n_iter=5,cv=5,verbose=10,\n",
    "                             return_train_score = True)\n",
    "#train rs model\n",
    "\n",
    "print(\"Random Search CV search...\")\n",
    "search_time_start = time.time()\n",
    "rs_model.fit(X_train,y_train)\n",
    "print(\"Random Search CV search time:\", time.time() - search_time_start)\n",
    "print('\\n')\n",
    "\n",
    "rs_model.best_params_"
   ]
  },
  {
   "cell_type": "code",
   "execution_count": 16,
   "metadata": {},
   "outputs": [
    {
     "data": {
      "text/plain": [
       "{'reg_lambda': 2,\n",
       " 'reg_gamma': 8,\n",
       " 'reg_alpha': 2,\n",
       " 'n_estimators': 30,\n",
       " 'min_child_weight': 20,\n",
       " 'max_depth': 5,\n",
       " 'max_delta_step': 31}"
      ]
     },
     "execution_count": 16,
     "metadata": {},
     "output_type": "execute_result"
    }
   ],
   "source": [
    "rs_model.best_params_"
   ]
  },
  {
   "cell_type": "code",
   "execution_count": 17,
   "metadata": {},
   "outputs": [],
   "source": [
    "#Make predictions using best performing model\n",
    "y_preds_rs = rs_model.predict(X_valid)"
   ]
  },
  {
   "cell_type": "code",
   "execution_count": 18,
   "metadata": {
    "scrolled": true
   },
   "outputs": [
    {
     "name": "stdout",
     "output_type": "stream",
     "text": [
      "MAE before H.P. tuning: 3655.1781505995064 \n",
      "MAE after H.P. tuning: 33778.01990656622\n",
      "r2 score = -3.6823066925125056\n"
     ]
    }
   ],
   "source": [
    "#evaluate performance of best performing model\n",
    "mae_hyp = mean_absolute_error(y_valid,y_preds_rs)\n",
    "print(f'MAE before H.P. tuning: {MAE} \\nMAE after H.P. tuning: {mae_hyp}')\n",
    "r2 = r2_score(y_valid,y_preds_rs)\n",
    "print(f'r2 score = {r2}')\n",
    "#XGBoost with randomized search CV hyper param tuning\n",
    "#Uses all labels + better missing values approach + better hyper param tuning approach"
   ]
  },
  {
   "cell_type": "code",
   "execution_count": 19,
   "metadata": {},
   "outputs": [
    {
     "data": {
      "image/png": "[encoded data removed]",
      "text/plain": [
       "<Figure size 432x288 with 1 Axes>"
      ]
     },
     "metadata": {
      "needs_background": "light"
     },
     "output_type": "display_data"
    }
   ],
   "source": [
    "bins = np.linspace(0, 100000, 50)\n",
    "\n",
    "plt.hist(y_preds_rs, bins, alpha=0.5, label='Validation Predictions')\n",
    "plt.hist(y_valid, bins, alpha=0.5, label='Validation True Labels')\n",
    "plt.legend(loc='upper right')\n",
    "plt.show()"
   ]
  },
  {
   "cell_type": "code",
   "execution_count": 20,
   "metadata": {},
   "outputs": [],
   "source": [
    "#Final Prediction --> Test Set\n",
    "test_preds = rs_model.predict(X_test)"
   ]
  },
  {
   "cell_type": "code",
   "execution_count": 21,
   "metadata": {},
   "outputs": [
    {
     "name": "stdout",
     "output_type": "stream",
     "text": [
      "MAE on test set = 33856.51316554403\n",
      "r2 score = -3.659173597875121\n"
     ]
    }
   ],
   "source": [
    "#evaluate performance on test set\n",
    "mae_test = mean_absolute_error(y_test,test_preds)\n",
    "print(f'MAE on test set = {mae_test}')\n",
    "r2 = r2_score(y_test,test_preds)\n",
    "print(f'r2 score = {r2}')\n"
   ]
  },
  {
   "cell_type": "code",
   "execution_count": 22,
   "metadata": {},
   "outputs": [
    {
     "data": {
      "image/png": "[encoded data removed]",
      "text/plain": [
       "<Figure size 432x288 with 1 Axes>"
      ]
     },
     "metadata": {
      "needs_background": "light"
     },
     "output_type": "display_data"
    }
   ],
   "source": [
    "\n",
    "bins = np.linspace(0, 100000, 50)\n",
    "plt.xlabel('Salary Normalized')\n",
    "plt.ylabel('Number of Instances')\n",
    "plt.title('Name_of_your_model + Performance')\n",
    "\n",
    "plt.hist(test_preds, bins, alpha=0.5, label='Test Predictions')\n",
    "plt.hist(y_test, bins, alpha=0.5, label='Test True Labels')\n",
    "plt.legend(loc='upper right')\n",
    "plt.show()"
   ]
  },
  {
   "cell_type": "code",
   "execution_count": 23,
   "metadata": {},
   "outputs": [
    {
     "data": {
      "text/plain": [
       "['Id',\n",
       " 'Title',\n",
       " 'FullDescription',\n",
       " 'LocationRaw',\n",
       " 'LocationNormalized',\n",
       " 'ContractType',\n",
       " 'ContractTime',\n",
       " 'Company',\n",
       " 'Category',\n",
       " 'SalaryRaw',\n",
       " 'SourceName',\n",
       " 'Titleis_missing',\n",
       " 'FullDescriptionis_missing',\n",
       " 'LocationRawis_missing',\n",
       " 'LocationNormalizedis_missing',\n",
       " 'ContractTypeis_missing',\n",
       " 'ContractTimeis_missing',\n",
       " 'Companyis_missing',\n",
       " 'Categoryis_missing',\n",
       " 'SalaryRawis_missing',\n",
       " 'SourceNameis_missing']"
      ]
     },
     "execution_count": 23,
     "metadata": {},
     "output_type": "execute_result"
    }
   ],
   "source": [
    "X_vals = []\n",
    "[X_vals.append(val) for val in df.columns]\n",
    "X_vals.remove('SalaryNormalized')\n",
    "X_vals"
   ]
  },
  {
   "cell_type": "code",
   "execution_count": null,
   "metadata": {},
   "outputs": [],
   "source": []
  }
 ],
 "metadata": {
  "kernelspec": {
   "display_name": "Python 3",
   "language": "python",
   "name": "python3"
  },
  "language_info": {
   "codemirror_mode": {
    "name": "ipython",
    "version": 3
   },
   "file_extension": ".py",
   "mimetype": "text/x-python",
   "name": "python",
   "nbconvert_exporter": "python",
   "pygments_lexer": "ipython3",
   "version": "3.7.6"
  }
 },
 "nbformat": 4,
 "nbformat_minor": 4
}
